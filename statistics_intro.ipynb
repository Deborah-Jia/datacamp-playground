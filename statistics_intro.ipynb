{
 "cells": [
  {
   "cell_type": "markdown",
   "metadata": {},
   "source": [
    "# Descriptive Statistics"
   ]
  },
  {
   "cell_type": "code",
   "execution_count": 6,
   "metadata": {},
   "outputs": [],
   "source": [
    "import numpy as np\n",
    "import pandas as pd\n",
    "import scipy\n",
    "import os\n",
    "# set up the working directory\n",
    "os.chdir('/Users/deborah_j/Documents/CEU/datacamp-playground/Introduction_to_Statistics_in_Python/')\n"
   ]
  },
  {
   "cell_type": "code",
   "execution_count": 7,
   "metadata": {},
   "outputs": [
    {
     "data": {
      "text/html": [
       "<div>\n",
       "<style scoped>\n",
       "    .dataframe tbody tr th:only-of-type {\n",
       "        vertical-align: middle;\n",
       "    }\n",
       "\n",
       "    .dataframe tbody tr th {\n",
       "        vertical-align: top;\n",
       "    }\n",
       "\n",
       "    .dataframe thead th {\n",
       "        text-align: right;\n",
       "    }\n",
       "</style>\n",
       "<table border=\"1\" class=\"dataframe\">\n",
       "  <thead>\n",
       "    <tr style=\"text-align: right;\">\n",
       "      <th></th>\n",
       "      <th>product</th>\n",
       "      <th>client</th>\n",
       "      <th>status</th>\n",
       "      <th>amount</th>\n",
       "      <th>num_users</th>\n",
       "    </tr>\n",
       "  </thead>\n",
       "  <tbody>\n",
       "    <tr>\n",
       "      <th>0</th>\n",
       "      <td>Product F</td>\n",
       "      <td>Current</td>\n",
       "      <td>Won</td>\n",
       "      <td>7389.52</td>\n",
       "      <td>19</td>\n",
       "    </tr>\n",
       "    <tr>\n",
       "      <th>1</th>\n",
       "      <td>Product C</td>\n",
       "      <td>New</td>\n",
       "      <td>Won</td>\n",
       "      <td>4493.01</td>\n",
       "      <td>43</td>\n",
       "    </tr>\n",
       "    <tr>\n",
       "      <th>2</th>\n",
       "      <td>Product B</td>\n",
       "      <td>New</td>\n",
       "      <td>Won</td>\n",
       "      <td>5738.09</td>\n",
       "      <td>87</td>\n",
       "    </tr>\n",
       "    <tr>\n",
       "      <th>3</th>\n",
       "      <td>Product I</td>\n",
       "      <td>Current</td>\n",
       "      <td>Won</td>\n",
       "      <td>2591.24</td>\n",
       "      <td>83</td>\n",
       "    </tr>\n",
       "    <tr>\n",
       "      <th>4</th>\n",
       "      <td>Product E</td>\n",
       "      <td>Current</td>\n",
       "      <td>Won</td>\n",
       "      <td>6622.97</td>\n",
       "      <td>17</td>\n",
       "    </tr>\n",
       "    <tr>\n",
       "      <th>...</th>\n",
       "      <td>...</td>\n",
       "      <td>...</td>\n",
       "      <td>...</td>\n",
       "      <td>...</td>\n",
       "      <td>...</td>\n",
       "    </tr>\n",
       "    <tr>\n",
       "      <th>173</th>\n",
       "      <td>Product A</td>\n",
       "      <td>Current</td>\n",
       "      <td>Lost</td>\n",
       "      <td>5835.32</td>\n",
       "      <td>23</td>\n",
       "    </tr>\n",
       "    <tr>\n",
       "      <th>174</th>\n",
       "      <td>Product D</td>\n",
       "      <td>Current</td>\n",
       "      <td>Won</td>\n",
       "      <td>6377.50</td>\n",
       "      <td>12</td>\n",
       "    </tr>\n",
       "    <tr>\n",
       "      <th>175</th>\n",
       "      <td>Product D</td>\n",
       "      <td>Current</td>\n",
       "      <td>Won</td>\n",
       "      <td>3537.61</td>\n",
       "      <td>28</td>\n",
       "    </tr>\n",
       "    <tr>\n",
       "      <th>176</th>\n",
       "      <td>Product A</td>\n",
       "      <td>Current</td>\n",
       "      <td>Won</td>\n",
       "      <td>6448.07</td>\n",
       "      <td>34</td>\n",
       "    </tr>\n",
       "    <tr>\n",
       "      <th>177</th>\n",
       "      <td>Product D</td>\n",
       "      <td>New</td>\n",
       "      <td>Lost</td>\n",
       "      <td>7320.05</td>\n",
       "      <td>72</td>\n",
       "    </tr>\n",
       "  </tbody>\n",
       "</table>\n",
       "<p>178 rows × 5 columns</p>\n",
       "</div>"
      ],
      "text/plain": [
       "       product   client status   amount  num_users\n",
       "0    Product F  Current    Won  7389.52         19\n",
       "1    Product C      New    Won  4493.01         43\n",
       "2    Product B      New    Won  5738.09         87\n",
       "3    Product I  Current    Won  2591.24         83\n",
       "4    Product E  Current    Won  6622.97         17\n",
       "..         ...      ...    ...      ...        ...\n",
       "173  Product A  Current   Lost  5835.32         23\n",
       "174  Product D  Current    Won  6377.50         12\n",
       "175  Product D  Current    Won  3537.61         28\n",
       "176  Product A  Current    Won  6448.07         34\n",
       "177  Product D      New   Lost  7320.05         72\n",
       "\n",
       "[178 rows x 5 columns]"
      ]
     },
     "execution_count": 7,
     "metadata": {},
     "output_type": "execute_result"
    }
   ],
   "source": [
    "# load the file and delete first column\n",
    "amir_deals_df = pd.read_csv('amir_deals.csv')\n",
    "del amir_deals_df['Unnamed: 0']\n",
    "amir_deals_df"
   ]
  },
  {
   "cell_type": "markdown",
   "metadata": {},
   "source": []
  },
  {
   "cell_type": "code",
   "execution_count": 8,
   "metadata": {},
   "outputs": [
    {
     "data": {
      "text/plain": [
       "4812.000337078652"
      ]
     },
     "execution_count": 8,
     "metadata": {},
     "output_type": "execute_result"
    }
   ],
   "source": [
    "np.mean(amir_deals_df['amount'])"
   ]
  },
  {
   "cell_type": "code",
   "execution_count": 9,
   "metadata": {},
   "outputs": [
    {
     "data": {
      "text/plain": [
       "4805.1900000000005"
      ]
     },
     "execution_count": 9,
     "metadata": {},
     "output_type": "execute_result"
    }
   ],
   "source": [
    "np.median(amir_deals_df['amount'])"
   ]
  },
  {
   "cell_type": "code",
   "execution_count": 10,
   "metadata": {},
   "outputs": [
    {
     "data": {
      "text/plain": [
       "17"
      ]
     },
     "execution_count": 10,
     "metadata": {},
     "output_type": "execute_result"
    }
   ],
   "source": [
    "import statistics\n",
    "statistics.mode(amir_deals_df['num_users'])"
   ]
  },
  {
   "cell_type": "code",
   "execution_count": 11,
   "metadata": {},
   "outputs": [
    {
     "data": {
      "text/plain": [
       "85      1\n",
       "29      1\n",
       "123     1\n",
       "151     2\n",
       "91      2\n",
       "       ..\n",
       "63     94\n",
       "120    96\n",
       "133    98\n",
       "107    99\n",
       "40     99\n",
       "Name: num_users, Length: 178, dtype: int64"
      ]
     },
     "execution_count": 11,
     "metadata": {},
     "output_type": "execute_result"
    }
   ],
   "source": [
    "# by default, ascending is True\n",
    "amir_deals_df['num_users'].sort_values()"
   ]
  },
  {
   "cell_type": "code",
   "execution_count": 12,
   "metadata": {},
   "outputs": [
    {
     "data": {
      "text/plain": [
       "Current    145\n",
       "New         33\n",
       "Name: client, dtype: int64"
      ]
     },
     "execution_count": 12,
     "metadata": {},
     "output_type": "execute_result"
    }
   ],
   "source": [
    "# check roughly the distribution of the client column\n",
    "amir_deals_df['client'].value_counts()"
   ]
  },
  {
   "cell_type": "code",
   "execution_count": 13,
   "metadata": {},
   "outputs": [
    {
     "data": {
      "text/html": [
       "<div>\n",
       "<style scoped>\n",
       "    .dataframe tbody tr th:only-of-type {\n",
       "        vertical-align: middle;\n",
       "    }\n",
       "\n",
       "    .dataframe tbody tr th {\n",
       "        vertical-align: top;\n",
       "    }\n",
       "\n",
       "    .dataframe thead th {\n",
       "        text-align: right;\n",
       "    }\n",
       "</style>\n",
       "<table border=\"1\" class=\"dataframe\">\n",
       "  <thead>\n",
       "    <tr style=\"text-align: right;\">\n",
       "      <th></th>\n",
       "      <th>mean</th>\n",
       "      <th>median</th>\n",
       "    </tr>\n",
       "    <tr>\n",
       "      <th>product</th>\n",
       "      <th></th>\n",
       "      <th></th>\n",
       "    </tr>\n",
       "  </thead>\n",
       "  <tbody>\n",
       "    <tr>\n",
       "      <th>Product A</th>\n",
       "      <td>5228.240000</td>\n",
       "      <td>5597.340</td>\n",
       "    </tr>\n",
       "    <tr>\n",
       "      <th>Product B</th>\n",
       "      <td>4840.396452</td>\n",
       "      <td>4765.650</td>\n",
       "    </tr>\n",
       "    <tr>\n",
       "      <th>Product C</th>\n",
       "      <td>3386.596667</td>\n",
       "      <td>3579.630</td>\n",
       "    </tr>\n",
       "    <tr>\n",
       "      <th>Product D</th>\n",
       "      <td>5094.949000</td>\n",
       "      <td>4852.280</td>\n",
       "    </tr>\n",
       "    <tr>\n",
       "      <th>Product E</th>\n",
       "      <td>4894.302000</td>\n",
       "      <td>4823.990</td>\n",
       "    </tr>\n",
       "    <tr>\n",
       "      <th>Product F</th>\n",
       "      <td>4977.383636</td>\n",
       "      <td>5137.670</td>\n",
       "    </tr>\n",
       "    <tr>\n",
       "      <th>Product G</th>\n",
       "      <td>6671.095000</td>\n",
       "      <td>6671.095</td>\n",
       "    </tr>\n",
       "    <tr>\n",
       "      <th>Product H</th>\n",
       "      <td>4432.011250</td>\n",
       "      <td>4832.155</td>\n",
       "    </tr>\n",
       "    <tr>\n",
       "      <th>Product I</th>\n",
       "      <td>3915.044286</td>\n",
       "      <td>3220.450</td>\n",
       "    </tr>\n",
       "    <tr>\n",
       "      <th>Product J</th>\n",
       "      <td>3725.980000</td>\n",
       "      <td>3725.980</td>\n",
       "    </tr>\n",
       "    <tr>\n",
       "      <th>Product N</th>\n",
       "      <td>6235.590000</td>\n",
       "      <td>7340.640</td>\n",
       "    </tr>\n",
       "  </tbody>\n",
       "</table>\n",
       "</div>"
      ],
      "text/plain": [
       "                  mean    median\n",
       "product                         \n",
       "Product A  5228.240000  5597.340\n",
       "Product B  4840.396452  4765.650\n",
       "Product C  3386.596667  3579.630\n",
       "Product D  5094.949000  4852.280\n",
       "Product E  4894.302000  4823.990\n",
       "Product F  4977.383636  5137.670\n",
       "Product G  6671.095000  6671.095\n",
       "Product H  4432.011250  4832.155\n",
       "Product I  3915.044286  3220.450\n",
       "Product J  3725.980000  3725.980\n",
       "Product N  6235.590000  7340.640"
      ]
     },
     "execution_count": 13,
     "metadata": {},
     "output_type": "execute_result"
    }
   ],
   "source": [
    "# use aggregation function efficiently: dont forget [] within agg and no need for parentheses within agg\n",
    "amir_deals_df.groupby('product')['amount'].agg([np.mean,np.median])\n"
   ]
  },
  {
   "cell_type": "code",
   "execution_count": 14,
   "metadata": {},
   "outputs": [
    {
     "data": {
      "text/plain": [
       "<AxesSubplot:>"
      ]
     },
     "execution_count": 14,
     "metadata": {},
     "output_type": "execute_result"
    },
    {
     "data": {
      "image/png": "[encoded data removed]",
      "text/plain": [
       "<Figure size 432x288 with 1 Axes>"
      ]
     },
     "metadata": {
      "needs_background": "light"
     },
     "output_type": "display_data"
    }
   ],
   "source": [
    "# visualize the distribution of the amount column: in jupyter notes book without plt.show() it still \n",
    "# shows the plot\n",
    "import matplotlib.pyplot as plt\n",
    "amir_deals_df['amount'].hist()\n",
    "\n",
    "# clear the picture\n",
    "# plt.clf()\n"
   ]
  },
  {
   "cell_type": "code",
   "execution_count": 15,
   "metadata": {},
   "outputs": [
    {
     "name": "stdout",
     "output_type": "stream",
     "text": [
      "4236077.02557051\n",
      "2058.17322535556\n",
      "2058.17322535556\n"
     ]
    }
   ],
   "source": [
    "# calculate the spread of the amount column\n",
    "# without ddof=1, it calculates the population variance\n",
    "print(np.var(amir_deals_df['amount'],ddof=1))\n",
    "# standard deviation: two ways to calculate it\n",
    "print(np.std(amir_deals_df['amount'],ddof=1))\n",
    "print(amir_deals_df['amount'].std())"
   ]
  },
  {
   "cell_type": "code",
   "execution_count": 19,
   "metadata": {},
   "outputs": [
    {
     "data": {
      "text/plain": [
       "1407.9649999999992"
      ]
     },
     "execution_count": 19,
     "metadata": {},
     "output_type": "execute_result"
    }
   ],
   "source": [
    "# mean absolute deviation.\n",
    "# remember to import stats; importing scipy itself is not enough\n",
    "from scipy import stats\n",
    "stats.median_abs_deviation(amir_deals_df['amount'])\n",
    "# Standard deviation vs. mean absolute deviation:\n",
    "# Standard deviation squares distances, penalizing longer distances more than shorter ones. \n",
    "# Mean absolute deviation penalizes each distance equally.\n",
    "# One isn't better than the other, but SD is more common than MAD."
   ]
  },
  {
   "cell_type": "code",
   "execution_count": null,
   "metadata": {},
   "outputs": [
    {
     "name": "stdout",
     "output_type": "stream",
     "text": [
      "17.0\n",
      "[ 1.   14.25 32.5  58.   99.  ]\n",
      "[ 1.   14.25 32.5  58.   99.  ]\n"
     ]
    }
   ],
   "source": [
    "# Quantiles: cut points dividing the range of a prob distri into continuous intervals with equal probs\n",
    "print(np.quantile(amir_deals_df['num_users'],0.3))\n",
    "# Quartiles: 3 points dividing the range of a prob distri into 4 intervals with equal probs\n",
    "# still use quantile function, but turn the current argument into a list\n",
    "print(np.quantile(amir_deals_df['num_users'], [0,0.25,0.5,0.75,1]))\n",
    "# linspace is also good with [start, stop, num], meaning (num-1) spaces between start and stop\n",
    "print(np.quantile(amir_deals_df['num_users'], np.linspace(0,1,5)))"
   ]
  },
  {
   "cell_type": "code",
   "execution_count": null,
   "metadata": {},
   "outputs": [
    {
     "data": {
      "image/png": "[encoded data removed]",
      "text/plain": [
       "<Figure size 432x288 with 1 Axes>"
      ]
     },
     "metadata": {
      "needs_background": "light"
     },
     "output_type": "display_data"
    }
   ],
   "source": [
    "# try boxplot\n",
    "plt.boxplot(amir_deals_df['num_users'])\n",
    "plt.show()"
   ]
  },
  {
   "cell_type": "code",
   "execution_count": null,
   "metadata": {},
   "outputs": [
    {
     "name": "stdout",
     "output_type": "stream",
     "text": [
      "43.75\n",
      "43.75\n"
     ]
    }
   ],
   "source": [
    "# IQR: interquartile range, the height of the box in the box plot\n",
    "# by definition, it is the difference between the 75th and 25th percentiles\n",
    "print(np.quantile(amir_deals_df['num_users'],0.75) - np.quantile(amir_deals_df['num_users'],0.25))\n",
    "# there is also a dedicated function for IQR\n",
    "from scipy.stats import iqr\n",
    "print(iqr(amir_deals_df['num_users']))\n",
    "# IQR is a robust measure of spread, as it is not influenced by outliers; \n",
    "# and we can use IQR to find ourliers, e.g. Q1 - 1.5*IQR or Q3 + 1.5*IQR"
   ]
  },
  {
   "cell_type": "code",
   "execution_count": null,
   "metadata": {},
   "outputs": [
    {
     "data": {
      "text/html": [
       "<div>\n",
       "<style scoped>\n",
       "    .dataframe tbody tr th:only-of-type {\n",
       "        vertical-align: middle;\n",
       "    }\n",
       "\n",
       "    .dataframe tbody tr th {\n",
       "        vertical-align: top;\n",
       "    }\n",
       "\n",
       "    .dataframe thead th {\n",
       "        text-align: right;\n",
       "    }\n",
       "</style>\n",
       "<table border=\"1\" class=\"dataframe\">\n",
       "  <thead>\n",
       "    <tr style=\"text-align: right;\">\n",
       "      <th></th>\n",
       "      <th>product</th>\n",
       "      <th>client</th>\n",
       "      <th>status</th>\n",
       "      <th>amount</th>\n",
       "      <th>num_users</th>\n",
       "    </tr>\n",
       "  </thead>\n",
       "  <tbody>\n",
       "  </tbody>\n",
       "</table>\n",
       "</div>"
      ],
      "text/plain": [
       "Empty DataFrame\n",
       "Columns: [product, client, status, amount, num_users]\n",
       "Index: []"
      ]
     },
     "execution_count": 24,
     "metadata": {},
     "output_type": "execute_result"
    }
   ],
   "source": [
    "# an example of finding outliers\n",
    "lower_bound = np.quantile(amir_deals_df['amount'],0.25) - 1.5*iqr(amir_deals_df['amount'])\n",
    "upper_bound = np.quantile(amir_deals_df['amount'],0.75) + 1.5*iqr(amir_deals_df['amount'])\n",
    "amir_deals_df[(amir_deals_df['amount'] < lower_bound) | (amir_deals_df['amount'] > upper_bound)]\n",
    "# no outliers in this case? good... good"
   ]
  },
  {
   "cell_type": "code",
   "execution_count": 25,
   "metadata": {},
   "outputs": [
    {
     "data": {
      "text/plain": [
       "count     178.000000\n",
       "mean     4812.000337\n",
       "std      2058.173225\n",
       "min      -539.230000\n",
       "25%      3415.927500\n",
       "50%      4805.190000\n",
       "75%      6217.257500\n",
       "max      9913.270000\n",
       "Name: amount, dtype: float64"
      ]
     },
     "execution_count": 25,
     "metadata": {},
     "output_type": "execute_result"
    }
   ],
   "source": [
    "# all in one go\n",
    "amir_deals_df['amount'].describe()"
   ]
  },
  {
   "cell_type": "markdown",
   "metadata": {},
   "source": [
    "# Sampling and Distributions"
   ]
  },
  {
   "cell_type": "code",
   "execution_count": null,
   "metadata": {},
   "outputs": [],
   "source": []
  }
 ],
 "metadata": {
  "kernelspec": {
   "display_name": "base",
   "language": "python",
   "name": "python3"
  },
  "language_info": {
   "codemirror_mode": {
    "name": "ipython",
    "version": 3
   },
   "file_extension": ".py",
   "mimetype": "text/x-python",
   "name": "python",
   "nbconvert_exporter": "python",
   "pygments_lexer": "ipython3",
   "version": "3.8.8"
  }
 },
 "nbformat": 4,
 "nbformat_minor": 2
}
