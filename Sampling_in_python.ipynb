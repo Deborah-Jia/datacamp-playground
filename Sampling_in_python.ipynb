{
 "cells": [
  {
   "cell_type": "code",
   "execution_count": 1,
   "metadata": {},
   "outputs": [],
   "source": [
    "import os\n",
    "# set up the working directory\n",
    "os.chdir('/Users/deborah_j/Documents/CEU/datacamp-playground/Sampling_in_python/')"
   ]
  },
  {
   "cell_type": "code",
   "execution_count": 3,
   "metadata": {},
   "outputs": [
    {
     "data": {
      "text/plain": [
       "'/Users/deborah_j/opt/anaconda3/bin/python'"
      ]
     },
     "execution_count": 3,
     "metadata": {},
     "output_type": "execute_result"
    }
   ],
   "source": [
    "import sys\n",
    "sys.executable"
   ]
  },
  {
   "cell_type": "markdown",
   "metadata": {},
   "source": [
    "# Intro to Sampling"
   ]
  },
  {
   "cell_type": "code",
   "execution_count": 3,
   "metadata": {},
   "outputs": [
    {
     "ename": "ImportError",
     "evalue": "dlopen(/Users/deborah_j/opt/anaconda3/lib/python3.8/site-packages/pyarrow/lib.cpython-38-darwin.so, 0x0002): Library not loaded: @rpath/libre2.9.dylib\n  Referenced from: <92285849-555E-3EEC-9668-6C1E20533812> /Users/deborah_j/opt/anaconda3/lib/libarrow.400.1.0.dylib\n  Reason: tried: '/Users/deborah_j/opt/anaconda3/lib/libre2.9.dylib' (no such file), '/Users/deborah_j/opt/anaconda3/lib/python3.8/site-packages/pyarrow/../../../libre2.9.dylib' (no such file), '/Users/deborah_j/opt/anaconda3/lib/python3.8/site-packages/pyarrow/../../../libre2.9.dylib' (no such file), '/Users/deborah_j/opt/anaconda3/lib/libre2.9.dylib' (no such file), '/System/Volumes/Preboot/Cryptexes/OS/Users/deborah_j/opt/anaconda3/lib/libre2.9.dylib' (no such file), '/Users/deborah_j/opt/anaconda3/bin/../lib/libre2.9.dylib' (no such file), '/Users/deborah_j/opt/anaconda3/lib/libre2.9.dylib' (no such file), '/System/Volumes/Preboot/Cryptexes/OS/Users/deborah_j/opt/anaconda3/lib/libre2.9.dylib' (no such file), '/Users/deborah_j/opt/anaconda3/bin/../lib/libre2.9.dylib' (no such file), '/System/Volumes/Preboot/Cryptexes/OS@rpath/libre2.9.dylib' (no such file), '/Users/deborah_j/opt/anaconda3/lib/libre2.9.dylib' (no such file), '/Users/deborah_j/opt/anaconda3/lib/python3.8/site-packages/pyarrow/../../../libre2.9.dylib' (no such file), '/Users/deborah_j/opt/anaconda3/lib/python3.8/site-packages/pyarrow/../../../libre2.9.dylib' (no such file), '/Users/deborah_j/opt/anaconda3/lib/libre2.9.dylib' (no such file), '/System/Volumes/Preboot/Cryptexes/OS/Users/deborah_j/opt/anaconda3/lib/libre2.9.dylib' (no such file), '/Users/deborah_j/opt/anaconda3/bin/../lib/libre2.9.dylib' (no such file), '/Users/deborah_j/opt/anaconda3/lib/libre2.9.dylib' (no such file), '/System/Volumes/Preboot/Cryptexes/OS/Users/deborah_j/opt/anaconda3/lib/libre2.9.dylib' (no such file), '/Users/deborah_j/opt/anaconda3/bin/../lib/libre2.9.dylib' (no such file), '/usr/local/lib/libre2.9.dylib' (no such file), '/usr/lib/libre2.9.dylib' (no such file, not in dyld cache)",
     "output_type": "error",
     "traceback": [
      "\u001b[0;31m---------------------------------------------------------------------------\u001b[0m",
      "\u001b[0;31mImportError\u001b[0m                               Traceback (most recent call last)",
      "\u001b[0;32m<ipython-input-3-8b82e6584ece>\u001b[0m in \u001b[0;36m<module>\u001b[0;34m\u001b[0m\n\u001b[0;32m----> 1\u001b[0;31m \u001b[0;32mimport\u001b[0m \u001b[0mpyarrow\u001b[0m\u001b[0;31m# import the necessary libraries\u001b[0m\u001b[0;34m\u001b[0m\u001b[0;34m\u001b[0m\u001b[0m\n\u001b[0m",
      "\u001b[0;32m~/opt/anaconda3/lib/python3.8/site-packages/pyarrow/__init__.py\u001b[0m in \u001b[0;36m<module>\u001b[0;34m\u001b[0m\n\u001b[1;32m     61\u001b[0m \u001b[0m_gc_enabled\u001b[0m \u001b[0;34m=\u001b[0m \u001b[0m_gc\u001b[0m\u001b[0;34m.\u001b[0m\u001b[0misenabled\u001b[0m\u001b[0;34m(\u001b[0m\u001b[0;34m)\u001b[0m\u001b[0;34m\u001b[0m\u001b[0;34m\u001b[0m\u001b[0m\n\u001b[1;32m     62\u001b[0m \u001b[0m_gc\u001b[0m\u001b[0;34m.\u001b[0m\u001b[0mdisable\u001b[0m\u001b[0;34m(\u001b[0m\u001b[0;34m)\u001b[0m\u001b[0;34m\u001b[0m\u001b[0;34m\u001b[0m\u001b[0m\n\u001b[0;32m---> 63\u001b[0;31m \u001b[0;32mimport\u001b[0m \u001b[0mpyarrow\u001b[0m\u001b[0;34m.\u001b[0m\u001b[0mlib\u001b[0m \u001b[0;32mas\u001b[0m \u001b[0m_lib\u001b[0m\u001b[0;34m\u001b[0m\u001b[0;34m\u001b[0m\u001b[0m\n\u001b[0m\u001b[1;32m     64\u001b[0m \u001b[0;32mif\u001b[0m \u001b[0m_gc_enabled\u001b[0m\u001b[0;34m:\u001b[0m\u001b[0;34m\u001b[0m\u001b[0;34m\u001b[0m\u001b[0m\n\u001b[1;32m     65\u001b[0m     \u001b[0m_gc\u001b[0m\u001b[0;34m.\u001b[0m\u001b[0menable\u001b[0m\u001b[0;34m(\u001b[0m\u001b[0;34m)\u001b[0m\u001b[0;34m\u001b[0m\u001b[0;34m\u001b[0m\u001b[0m\n",
      "\u001b[0;31mImportError\u001b[0m: dlopen(/Users/deborah_j/opt/anaconda3/lib/python3.8/site-packages/pyarrow/lib.cpython-38-darwin.so, 0x0002): Library not loaded: @rpath/libre2.9.dylib\n  Referenced from: <92285849-555E-3EEC-9668-6C1E20533812> /Users/deborah_j/opt/anaconda3/lib/libarrow.400.1.0.dylib\n  Reason: tried: '/Users/deborah_j/opt/anaconda3/lib/libre2.9.dylib' (no such file), '/Users/deborah_j/opt/anaconda3/lib/python3.8/site-packages/pyarrow/../../../libre2.9.dylib' (no such file), '/Users/deborah_j/opt/anaconda3/lib/python3.8/site-packages/pyarrow/../../../libre2.9.dylib' (no such file), '/Users/deborah_j/opt/anaconda3/lib/libre2.9.dylib' (no such file), '/System/Volumes/Preboot/Cryptexes/OS/Users/deborah_j/opt/anaconda3/lib/libre2.9.dylib' (no such file), '/Users/deborah_j/opt/anaconda3/bin/../lib/libre2.9.dylib' (no such file), '/Users/deborah_j/opt/anaconda3/lib/libre2.9.dylib' (no such file), '/System/Volumes/Preboot/Cryptexes/OS/Users/deborah_j/opt/anaconda3/lib/libre2.9.dylib' (no such file), '/Users/deborah_j/opt/anaconda3/bin/../lib/libre2.9.dylib' (no such file), '/System/Volumes/Preboot/Cryptexes/OS@rpath/libre2.9.dylib' (no such file), '/Users/deborah_j/opt/anaconda3/lib/libre2.9.dylib' (no such file), '/Users/deborah_j/opt/anaconda3/lib/python3.8/site-packages/pyarrow/../../../libre2.9.dylib' (no such file), '/Users/deborah_j/opt/anaconda3/lib/python3.8/site-packages/pyarrow/../../../libre2.9.dylib' (no such file), '/Users/deborah_j/opt/anaconda3/lib/libre2.9.dylib' (no such file), '/System/Volumes/Preboot/Cryptexes/OS/Users/deborah_j/opt/anaconda3/lib/libre2.9.dylib' (no such file), '/Users/deborah_j/opt/anaconda3/bin/../lib/libre2.9.dylib' (no such file), '/Users/deborah_j/opt/anaconda3/lib/libre2.9.dylib' (no such file), '/System/Volumes/Preboot/Cryptexes/OS/Users/deborah_j/opt/anaconda3/lib/libre2.9.dylib' (no such file), '/Users/deborah_j/opt/anaconda3/bin/../lib/libre2.9.dylib' (no such file), '/usr/local/lib/libre2.9.dylib' (no such file), '/usr/lib/libre2.9.dylib' (no such file, not in dyld cache)"
     ]
    }
   ],
   "source": [
    "import pyarrow# import the necessary libraries"
   ]
  },
  {
   "cell_type": "markdown",
   "metadata": {},
   "source": [
    "# Sampling Methods"
   ]
  },
  {
   "cell_type": "markdown",
   "metadata": {},
   "source": [
    "# Sampling Distribution"
   ]
  },
  {
   "cell_type": "markdown",
   "metadata": {},
   "source": [
    "# Bootstrap Distributions"
   ]
  }
 ],
 "metadata": {
  "kernelspec": {
   "display_name": "base",
   "language": "python",
   "name": "python3"
  },
  "language_info": {
   "codemirror_mode": {
    "name": "ipython",
    "version": 3
   },
   "file_extension": ".py",
   "mimetype": "text/x-python",
   "name": "python",
   "nbconvert_exporter": "python",
   "pygments_lexer": "ipython3",
   "version": "3.8.8"
  }
 },
 "nbformat": 4,
 "nbformat_minor": 2
}
