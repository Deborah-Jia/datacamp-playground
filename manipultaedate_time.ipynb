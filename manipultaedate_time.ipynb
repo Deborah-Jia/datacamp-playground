{
 "cells": [
  {
   "cell_type": "code",
   "execution_count": 106,
   "metadata": {},
   "outputs": [],
   "source": [
    "import os\n",
    "# set up the working directory\n",
    "os.chdir('/Users/deborah_j/Documents/CEU/datacamp-playground/Introduction_to_Statistics_in_Python/')"
   ]
  },
  {
   "cell_type": "markdown",
   "metadata": {},
   "source": [
    "# Dates and Calendars"
   ]
  },
  {
   "cell_type": "code",
   "execution_count": 107,
   "metadata": {},
   "outputs": [],
   "source": [
    "# Create Dates: in date() function zero padding is NOT required\n",
    "from datetime import date\n",
    "two_hurrican_dates = [date(2016, 10,7),date(2017, 6,21)]"
   ]
  },
  {
   "cell_type": "code",
   "execution_count": 108,
   "metadata": {},
   "outputs": [
    {
     "name": "stdout",
     "output_type": "stream",
     "text": [
      "2016\n",
      "10\n",
      "7\n"
     ]
    }
   ],
   "source": [
    "# attributes of the date object\n",
    "print(two_hurrican_dates[0].year)   \n",
    "print(two_hurrican_dates[0].month) \n",
    "print(two_hurrican_dates[0].day) "
   ]
  },
  {
   "cell_type": "code",
   "execution_count": 109,
   "metadata": {},
   "outputs": [
    {
     "name": "stdout",
     "output_type": "stream",
     "text": [
      "2\n"
     ]
    }
   ],
   "source": [
    "# Find the weekday of a date\n",
    "print(two_hurrican_dates[1].weekday())"
   ]
  },
  {
   "cell_type": "code",
   "execution_count": 110,
   "metadata": {},
   "outputs": [
    {
     "name": "stdout",
     "output_type": "stream",
     "text": [
      "2682000.0\n",
      "2016-11-07\n"
     ]
    }
   ],
   "source": [
    "# Match with dates\n",
    "from datetime import timedelta\n",
    "td =timedelta(days = 31, hours = 1)\n",
    "print(td.total_seconds())\n",
    "print(two_hurrican_dates[0] + td)"
   ]
  },
  {
   "cell_type": "code",
   "execution_count": 111,
   "metadata": {},
   "outputs": [
    {
     "name": "stdout",
     "output_type": "stream",
     "text": [
      "1\n",
      "9\n"
     ]
    }
   ],
   "source": [
    "# incrementing variables with += or -=\n",
    "x =0\n",
    "x += 1\n",
    "print(x)\n",
    "\n",
    "y =10\n",
    "y -= 1\n",
    "print(y)\n"
   ]
  },
  {
   "cell_type": "code",
   "execution_count": 112,
   "metadata": {},
   "outputs": [
    {
     "name": "stdout",
     "output_type": "stream",
     "text": [
      "1994-02-11\n",
      "['1994-02-11']\n"
     ]
    }
   ],
   "source": [
    "# turn dates into strings\n",
    "from datetime import date\n",
    "d1 = date(1994,2,11)\n",
    "print(d1)    \n",
    "# ISO 8601 format in a list\n",
    "print([d1.isoformat()])   \n"
   ]
  },
  {
   "cell_type": "code",
   "execution_count": 113,
   "metadata": {},
   "outputs": [
    {
     "name": "stdout",
     "output_type": "stream",
     "text": [
      "Wednesday, October 08, 1997\n",
      "Year is 1997\n",
      "1997/10/08\n"
     ]
    }
   ],
   "source": [
    "# strftime() method: more flexible way to format dates\n",
    "d2 = date(1997,10,8)\n",
    "print(d2.strftime(\"%A, %B %d, %Y\"))\n",
    "\n",
    "# it works with more text wrapped as well!\n",
    "print(d2.strftime(\"Year is %Y\"))\n",
    "\n",
    "# Format: YYYY/MM/DD\n",
    "print(d2.strftime(\"%Y/%m/%d\"))"
   ]
  },
  {
   "cell_type": "code",
   "execution_count": 114,
   "metadata": {},
   "outputs": [
    {
     "name": "stdout",
     "output_type": "stream",
     "text": [
      "['1999-11-12', '1999-12-11']\n"
     ]
    }
   ],
   "source": [
    "# A few dates that computers once had trouble with\n",
    "some_dates = ['1999-12-11', '1999-11-12']\n",
    "# Print them in order from earliest to latest\n",
    "print(sorted(some_dates))"
   ]
  },
  {
   "cell_type": "markdown",
   "metadata": {},
   "source": [
    "# Combining Dates and Times"
   ]
  },
  {
   "cell_type": "code",
   "execution_count": 115,
   "metadata": {},
   "outputs": [
    {
     "name": "stdout",
     "output_type": "stream",
     "text": [
      "1994-02-11 01:51:59\n"
     ]
    }
   ],
   "source": [
    "from datetime import datetime\n",
    "dt = datetime(1994, 2, 11, 1, 51, 59) #follow the vibe and type!\n",
    "print(dt)"
   ]
  },
  {
   "cell_type": "code",
   "execution_count": 116,
   "metadata": {},
   "outputs": [
    {
     "name": "stdout",
     "output_type": "stream",
     "text": [
      "1994-02-11 01:58:08\n"
     ]
    }
   ],
   "source": [
    "# replace part of a datetime\n",
    "dt_update = dt.replace(minute = 58, second = 8)\n",
    "print(dt_update)"
   ]
  },
  {
   "cell_type": "code",
   "execution_count": 117,
   "metadata": {},
   "outputs": [
    {
     "name": "stdout",
     "output_type": "stream",
     "text": [
      "01:51:59 on 1994-02-11\n"
     ]
    }
   ],
   "source": [
    "# strftime can deal with time as well\n",
    "print(dt.strftime(\"%H:%M:%S on %Y-%m-%d\"))"
   ]
  },
  {
   "cell_type": "code",
   "execution_count": 118,
   "metadata": {},
   "outputs": [
    {
     "name": "stdout",
     "output_type": "stream",
     "text": [
      "1994-02-11T01:51:59\n"
     ]
    }
   ],
   "source": [
    "# ISO 8601 format\n",
    "print(dt.isoformat())"
   ]
  },
  {
   "cell_type": "code",
   "execution_count": 119,
   "metadata": {},
   "outputs": [
    {
     "name": "stdout",
     "output_type": "stream",
     "text": [
      "2017-12-31 15:32:31\n"
     ]
    }
   ],
   "source": [
    "# Parsing datetimes with strptime\n",
    "from datetime import datetime\n",
    "dt2 = datetime.strptime(\"12/31/2017 15:32:31\", \"%m/%d/%Y %H:%M:%S\") #it takes two arguments that must tally\n",
    "print(dt2)"
   ]
  },
  {
   "cell_type": "code",
   "execution_count": 120,
   "metadata": {},
   "outputs": [
    {
     "name": "stdout",
     "output_type": "stream",
     "text": [
      "2017-12-30 23:32:31\n"
     ]
    }
   ],
   "source": [
    "# or we can use timestamp tp parse a date\n",
    "ts = 1514673151.0\n",
    "print(datetime.fromtimestamp(ts))"
   ]
  },
  {
   "cell_type": "markdown",
   "metadata": {},
   "source": [
    "# Time zones and Daylight Saving"
   ]
  },
  {
   "cell_type": "code",
   "execution_count": 121,
   "metadata": {},
   "outputs": [
    {
     "name": "stdout",
     "output_type": "stream",
     "text": [
      "2020-02-14 15:08:03-05:00\n"
     ]
    }
   ],
   "source": [
    "from datetime import datetime, timedelta, timezone\n",
    "# Create a timezone for Eastern Standard Time (EST)\n",
    "ET = timezone(timedelta(hours = -5)) # 5 hours behind UTC\n",
    "#  timezone-aware datetime\n",
    "dt3 = datetime(2020, 2,14, 15,8,3, tzinfo= ET)\n",
    "print(dt3) "
   ]
  },
  {
   "cell_type": "code",
   "execution_count": 122,
   "metadata": {},
   "outputs": [
    {
     "name": "stdout",
     "output_type": "stream",
     "text": [
      "2020-02-15 01:38:03+05:30\n"
     ]
    }
   ],
   "source": [
    "# Indian time: a special case where the timezone is not a whole number of hours\n",
    "IST = timezone(timedelta(hours = 5, minutes = 30))\n",
    "print(dt3.astimezone(IST))"
   ]
  },
  {
   "cell_type": "code",
   "execution_count": null,
   "metadata": {},
   "outputs": [
    {
     "name": "stdout",
     "output_type": "stream",
     "text": [
      "2020-02-14 15:08:03-05:00\n",
      "2020-02-14 15:08:03+00:00\n",
      "2020-02-14 20:08:03+00:00\n"
     ]
    }
   ],
   "source": [
    "# Adjusting timezone vs changing tzinfo\n",
    "print(dt3)\n",
    "print(dt3.replace(tzinfo = timezone.utc))\n",
    "# the replace() method is not the best way to change the timezone of a datetime object.\n",
    "# The best way is to use the astimezone() method, by changing original to match UTC\n",
    "print(dt3.astimezone(timezone.utc))\n",
    "# Use the .replace() method to change the hourzone of a datetime, leaving the date and\n",
    "# time the same.\n",
    "# use the .astimezone() method to shift the date and time to match the new timezone."
   ]
  },
  {
   "cell_type": "code",
   "execution_count": 124,
   "metadata": {},
   "outputs": [
    {
     "name": "stdout",
     "output_type": "stream",
     "text": [
      "tzfile('/usr/share/zoneinfo/America/New_York')\n"
     ]
    }
   ],
   "source": [
    "# time zone database\n",
    "from datetime import datetime\n",
    "from dateutil import tz\n",
    "# Create a timezone object for Eastern Time\n",
    "et = tz.gettz('America/New_York')\n",
    "print(et) #we can use this et as tine zone info"
   ]
  },
  {
   "cell_type": "code",
   "execution_count": 125,
   "metadata": {},
   "outputs": [
    {
     "name": "stdout",
     "output_type": "stream",
     "text": [
      "2020-02-14 15:08:03-05:00\n"
     ]
    }
   ],
   "source": [
    "last = datetime(2020, 2, 14, 15, 8, 3, tzinfo = et)\n",
    "print(last)"
   ]
  },
  {
   "cell_type": "markdown",
   "metadata": {},
   "source": [
    "# Dates and Times in Pandas: a case study with bike rides"
   ]
  },
  {
   "cell_type": "code",
   "execution_count": 126,
   "metadata": {},
   "outputs": [
    {
     "name": "stdout",
     "output_type": "stream",
     "text": [
      "           Start date            End date  Start station number  \\\n",
      "0 2017-10-01 15:23:25 2017-10-01 15:26:26                 31038   \n",
      "1 2017-10-01 15:42:57 2017-10-01 17:49:59                 31036   \n",
      "\n",
      "                   Start station  End station number  \\\n",
      "0           Glebe Rd & 11th St N               31036   \n",
      "1  George Mason Dr & Wilson Blvd               31036   \n",
      "\n",
      "                     End station Bike number Member type  \n",
      "0  George Mason Dr & Wilson Blvd      W20529      Member  \n",
      "1  George Mason Dr & Wilson Blvd      W20529      Casual  \n"
     ]
    }
   ],
   "source": [
    "import pandas as pd\n",
    "os.chdir('/Users/deborah_j/Documents/CEU/datacamp-playground/Working_with_Dates_and_Times_in_Python/')\n",
    "# parse_dates argument to read_csv() to convert date columns from strings (text) into datetime objects automatically \n",
    "rides = pd.read_csv('capital-onebike.csv', parse_dates = ['Start date', 'End date'])\n",
    "print(rides.head(2))"
   ]
  },
  {
   "cell_type": "code",
   "execution_count": 127,
   "metadata": {},
   "outputs": [],
   "source": [
    "# alternative method: convert the Start date column from strings to datetime\n",
    "# rides['Start date'] = pd.to_datetime(rides['Start date'], format = \"%Y-%m-%d %H:%M:%S\")\n",
    "# rides['End date'] = pd.to_datetime(rides['End date'], format = \"%Y-%m-%d %H:%M:%S\")"
   ]
  },
  {
   "cell_type": "code",
   "execution_count": 128,
   "metadata": {},
   "outputs": [
    {
     "name": "stdout",
     "output_type": "stream",
     "text": [
      "0   0 days 00:03:01\n",
      "1   0 days 02:07:02\n",
      "Name: Duration, dtype: timedelta64[ns]\n"
     ]
    }
   ],
   "source": [
    "# create a duration column\n",
    "rides['Duration'] = rides['End date'] - rides['Start date']\n",
    "print(rides['Duration'].head(2))"
   ]
  },
  {
   "cell_type": "code",
   "execution_count": 129,
   "metadata": {},
   "outputs": [
    {
     "data": {
      "text/plain": [
       "0     181.0\n",
       "1    7622.0\n",
       "Name: Duration, dtype: float64"
      ]
     },
     "execution_count": 129,
     "metadata": {},
     "output_type": "execute_result"
    }
   ],
   "source": [
    "# back slash as a line continuation character, \n",
    "# allowing you to split a single logical statement across multiple lines for better readability.\n",
    "rides['Duration']\\\n",
    ".dt.total_seconds()\\\n",
    ".head(2)"
   ]
  },
  {
   "cell_type": "code",
   "execution_count": 137,
   "metadata": {},
   "outputs": [
    {
     "data": {
      "text/plain": [
       "0.04348417785917786"
      ]
     },
     "execution_count": 137,
     "metadata": {},
     "output_type": "execute_result"
    }
   ],
   "source": [
    "# percent of time out of the dock in months\n",
    "rides['Duration'].sum()/timedelta(days = 91)"
   ]
  },
  {
   "cell_type": "code",
   "execution_count": 140,
   "metadata": {},
   "outputs": [
    {
     "data": {
      "text/plain": [
       "Member    236\n",
       "Casual     54\n",
       "Name: Member type, dtype: int64"
      ]
     },
     "execution_count": 140,
     "metadata": {},
     "output_type": "execute_result"
    }
   ],
   "source": [
    "# count how many time the bike started at each station\n",
    "rides['Member type'].value_counts()"
   ]
  },
  {
   "cell_type": "code",
   "execution_count": 143,
   "metadata": {},
   "outputs": [
    {
     "data": {
      "text/plain": [
       "Member    0.813793\n",
       "Casual    0.186207\n",
       "Name: Member type, dtype: float64"
      ]
     },
     "execution_count": 143,
     "metadata": {},
     "output_type": "execute_result"
    }
   ],
   "source": [
    "# percent of rides by member\n",
    "rides['Member type'].value_counts(normalize = True)\n",
    "# rides['Member type'].value_counts()/len(rides) #alternatively"
   ]
  },
  {
   "cell_type": "code",
   "execution_count": 150,
   "metadata": {},
   "outputs": [
    {
     "data": {
      "text/plain": [
       "Member type\n",
       "Casual    33.24\n",
       "Member    16.54\n",
       "Name: Duration minutes, dtype: float64"
      ]
     },
     "execution_count": 150,
     "metadata": {},
     "output_type": "execute_result"
    }
   ],
   "source": [
    "# average duration per member type\n",
    "rides['Duration minutes'] = rides['Duration'].dt.total_seconds()/60\n",
    "rides.groupby('Member type')['Duration minutes'].mean().round(2)"
   ]
  },
  {
   "cell_type": "code",
   "execution_count": 155,
   "metadata": {},
   "outputs": [
    {
     "data": {
      "text/plain": [
       "Start date\n",
       "2017-10-31    31.44\n",
       "2017-11-30    14.24\n",
       "2017-12-31    10.59\n",
       "Freq: M, Name: Duration minutes, dtype: float64"
      ]
     },
     "execution_count": 155,
     "metadata": {},
     "output_type": "execute_result"
    }
   ],
   "source": [
    "# average dutation by month\n",
    "rides.resample('M', on = 'Start date')['Duration minutes'].mean().round(2)\n",
    "# resample() method is a time-based groupby, followed by a reduction method like mean(), sum(), etc."
   ]
  },
  {
   "cell_type": "code",
   "execution_count": 157,
   "metadata": {},
   "outputs": [
    {
     "data": {
      "text/plain": [
       "Member type\n",
       "Casual     54\n",
       "Member    236\n",
       "dtype: int64"
      ]
     },
     "execution_count": 157,
     "metadata": {},
     "output_type": "execute_result"
    }
   ],
   "source": [
    "# size per group\n",
    "rides.groupby('Member type').size()"
   ]
  },
  {
   "cell_type": "code",
   "execution_count": 159,
   "metadata": {},
   "outputs": [
    {
     "data": {
      "text/html": [
       "<div>\n",
       "<style scoped>\n",
       "    .dataframe tbody tr th:only-of-type {\n",
       "        vertical-align: middle;\n",
       "    }\n",
       "\n",
       "    .dataframe tbody tr th {\n",
       "        vertical-align: top;\n",
       "    }\n",
       "\n",
       "    .dataframe thead th {\n",
       "        text-align: right;\n",
       "    }\n",
       "</style>\n",
       "<table border=\"1\" class=\"dataframe\">\n",
       "  <thead>\n",
       "    <tr style=\"text-align: right;\">\n",
       "      <th></th>\n",
       "      <th>Start date</th>\n",
       "      <th>End date</th>\n",
       "      <th>Start station number</th>\n",
       "      <th>Start station</th>\n",
       "      <th>End station number</th>\n",
       "      <th>End station</th>\n",
       "      <th>Bike number</th>\n",
       "      <th>Duration</th>\n",
       "      <th>Duration seconds</th>\n",
       "      <th>Duration minutes</th>\n",
       "    </tr>\n",
       "    <tr>\n",
       "      <th>Member type</th>\n",
       "      <th></th>\n",
       "      <th></th>\n",
       "      <th></th>\n",
       "      <th></th>\n",
       "      <th></th>\n",
       "      <th></th>\n",
       "      <th></th>\n",
       "      <th></th>\n",
       "      <th></th>\n",
       "      <th></th>\n",
       "    </tr>\n",
       "  </thead>\n",
       "  <tbody>\n",
       "    <tr>\n",
       "      <th>Casual</th>\n",
       "      <td>2017-10-01 15:42:57</td>\n",
       "      <td>2017-10-01 17:49:59</td>\n",
       "      <td>31036</td>\n",
       "      <td>George Mason Dr &amp; Wilson Blvd</td>\n",
       "      <td>31036</td>\n",
       "      <td>George Mason Dr &amp; Wilson Blvd</td>\n",
       "      <td>W20529</td>\n",
       "      <td>0 days 02:07:02</td>\n",
       "      <td>7622.0</td>\n",
       "      <td>127.033333</td>\n",
       "    </tr>\n",
       "    <tr>\n",
       "      <th>Member</th>\n",
       "      <td>2017-10-01 15:23:25</td>\n",
       "      <td>2017-10-01 15:26:26</td>\n",
       "      <td>31038</td>\n",
       "      <td>Glebe Rd &amp; 11th St N</td>\n",
       "      <td>31036</td>\n",
       "      <td>George Mason Dr &amp; Wilson Blvd</td>\n",
       "      <td>W20529</td>\n",
       "      <td>0 days 00:03:01</td>\n",
       "      <td>181.0</td>\n",
       "      <td>3.016667</td>\n",
       "    </tr>\n",
       "  </tbody>\n",
       "</table>\n",
       "</div>"
      ],
      "text/plain": [
       "                     Start date            End date  Start station number  \\\n",
       "Member type                                                                 \n",
       "Casual      2017-10-01 15:42:57 2017-10-01 17:49:59                 31036   \n",
       "Member      2017-10-01 15:23:25 2017-10-01 15:26:26                 31038   \n",
       "\n",
       "                             Start station  End station number  \\\n",
       "Member type                                                      \n",
       "Casual       George Mason Dr & Wilson Blvd               31036   \n",
       "Member                Glebe Rd & 11th St N               31036   \n",
       "\n",
       "                               End station Bike number        Duration  \\\n",
       "Member type                                                              \n",
       "Casual       George Mason Dr & Wilson Blvd      W20529 0 days 02:07:02   \n",
       "Member       George Mason Dr & Wilson Blvd      W20529 0 days 00:03:01   \n",
       "\n",
       "             Duration seconds  Duration minutes  \n",
       "Member type                                      \n",
       "Casual                 7622.0        127.033333  \n",
       "Member                  181.0          3.016667  "
      ]
     },
     "execution_count": 159,
     "metadata": {},
     "output_type": "execute_result"
    }
   ],
   "source": [
    "# first ride per group: The first() method returns the first n rows, based on the specified value.\n",
    "rides.groupby('Member type').first()"
   ]
  },
  {
   "cell_type": "code",
   "execution_count": 173,
   "metadata": {},
   "outputs": [
    {
     "data": {
      "text/plain": [
       "<AxesSubplot:xlabel='Start date'>"
      ]
     },
     "execution_count": 173,
     "metadata": {},
     "output_type": "execute_result"
    },
    {
     "data": {
      "image/png": "[encoded data removed]",
      "text/plain": [
       "<Figure size 432x288 with 1 Axes>"
      ]
     },
     "metadata": {
      "needs_background": "light"
     },
     "output_type": "display_data"
    }
   ],
   "source": [
    "# visualizing start dates of rides\n",
    "rides\\\n",
    ".resample('D', on = 'Start date')\\\n",
    "['Duration minutes']\\\n",
    ".mean()\\\n",
    ".plot()"
   ]
  },
  {
   "cell_type": "code",
   "execution_count": null,
   "metadata": {},
   "outputs": [
    {
     "data": {
      "text/plain": [
       "-3346.0"
      ]
     },
     "execution_count": 174,
     "metadata": {},
     "output_type": "execute_result"
    }
   ],
   "source": [
    "# why it's negative? - diffferent hour zones!\n",
    "rides['Duration'].dt.total_seconds().min()"
   ]
  },
  {
   "cell_type": "code",
   "execution_count": 176,
   "metadata": {},
   "outputs": [],
   "source": [
    "# try to set a timezone but got an error: need to use the 'ambigugous' argument\n",
    "# # rides['Start date'] = rides['Start date'].dt.tz_localize('America/New_York')\n",
    "rides['Start date'] = rides['Start date'].dt.tz_localize('America/New_York', ambiguous = 'NaT')\n",
    "rides['End date'] = rides['End date'].dt.tz_localize('America/New_York', ambiguous = 'NaT')\n"
   ]
  },
  {
   "cell_type": "code",
   "execution_count": 187,
   "metadata": {},
   "outputs": [
    {
     "data": {
      "text/plain": [
       "116.0"
      ]
     },
     "execution_count": 187,
     "metadata": {},
     "output_type": "execute_result"
    }
   ],
   "source": [
    "# recalculate the duration  \n",
    "rides['Duration'] = rides['End date'] - rides['Start date']\n",
    "# Find the minimum again\n",
    "rides['Duration'].dt.total_seconds().min().__round__(2)"
   ]
  },
  {
   "cell_type": "code",
   "execution_count": 193,
   "metadata": {},
   "outputs": [
    {
     "data": {
      "text/plain": [
       "0    10\n",
       "1    10\n",
       "2    10\n",
       "Name: Start date, dtype: int64"
      ]
     },
     "execution_count": 193,
     "metadata": {},
     "output_type": "execute_result"
    }
   ],
   "source": [
    "#  month of the first three rides\n",
    "rides['Start date']\\\n",
    "    .head(3)\\\n",
    "    .dt.month"
   ]
  },
  {
   "cell_type": "code",
   "execution_count": null,
   "metadata": {},
   "outputs": [
    {
     "data": {
      "text/plain": [
       "0    Sunday\n",
       "1    Sunday\n",
       "2    Monday\n",
       "Name: Start date, dtype: object"
      ]
     },
     "execution_count": 194,
     "metadata": {},
     "output_type": "execute_result"
    }
   ],
   "source": [
    "# weekdays of the first three rides\n",
    "rides['Start date']\\\n",
    "    .head(3)\\\n",
    "    .dt.day_name"
   ]
  },
  {
   "cell_type": "code",
   "execution_count": null,
   "metadata": {},
   "outputs": [
    {
     "data": {
      "text/plain": [
       "0                         NaT\n",
       "1   2017-10-01 15:26:26-04:00\n",
       "2   2017-10-01 17:49:59-04:00\n",
       "Name: End date, dtype: datetime64[ns, America/New_York]"
      ]
     },
     "execution_count": 195,
     "metadata": {},
     "output_type": "execute_result"
    }
   ],
   "source": [
    "# shift the indexes forward one, padding with NaT\n",
    "rides['End date'].shift(1).head(3)"
   ]
  }
 ],
 "metadata": {
  "kernelspec": {
   "display_name": "base",
   "language": "python",
   "name": "python3"
  },
  "language_info": {
   "codemirror_mode": {
    "name": "ipython",
    "version": 3
   },
   "file_extension": ".py",
   "mimetype": "text/x-python",
   "name": "python",
   "nbconvert_exporter": "python",
   "pygments_lexer": "ipython3",
   "version": "3.8.8"
  }
 },
 "nbformat": 4,
 "nbformat_minor": 2
}
