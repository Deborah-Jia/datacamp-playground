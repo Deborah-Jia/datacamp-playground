{
 "cells": [
  {
   "cell_type": "code",
   "execution_count": 14,
   "metadata": {},
   "outputs": [],
   "source": [
    "import os\n",
    "# set up the working directory\n",
    "os.chdir('/Users/deborah_j/Documents/CEU/datacamp-playground/Introduction_to_Statistics_in_Python/')"
   ]
  },
  {
   "cell_type": "markdown",
   "metadata": {},
   "source": [
    "# Dates and Calendars"
   ]
  },
  {
   "cell_type": "code",
   "execution_count": 15,
   "metadata": {},
   "outputs": [],
   "source": [
    "# Create Dates: in date() function zero padding is NOT required\n",
    "from datetime import date\n",
    "two_hurrican_dates = [date(2016, 10,7),date(2017, 6,21)]"
   ]
  },
  {
   "cell_type": "code",
   "execution_count": 16,
   "metadata": {},
   "outputs": [
    {
     "name": "stdout",
     "output_type": "stream",
     "text": [
      "2016\n",
      "10\n",
      "7\n"
     ]
    }
   ],
   "source": [
    "# attributes of the date object\n",
    "print(two_hurrican_dates[0].year)   \n",
    "print(two_hurrican_dates[0].month) \n",
    "print(two_hurrican_dates[0].day) "
   ]
  },
  {
   "cell_type": "code",
   "execution_count": 17,
   "metadata": {},
   "outputs": [
    {
     "name": "stdout",
     "output_type": "stream",
     "text": [
      "2\n"
     ]
    }
   ],
   "source": [
    "# Find the weekday of a date\n",
    "print(two_hurrican_dates[1].weekday())"
   ]
  },
  {
   "cell_type": "code",
   "execution_count": 18,
   "metadata": {},
   "outputs": [
    {
     "name": "stdout",
     "output_type": "stream",
     "text": [
      "2016-11-07\n"
     ]
    }
   ],
   "source": [
    "# Match with dates\n",
    "from datetime import timedelta\n",
    "td =timedelta(days = 31, hours = 1)\n",
    "print(two_hurrican_dates[0] + td)"
   ]
  },
  {
   "cell_type": "code",
   "execution_count": 19,
   "metadata": {},
   "outputs": [
    {
     "name": "stdout",
     "output_type": "stream",
     "text": [
      "1\n",
      "9\n"
     ]
    }
   ],
   "source": [
    "# incrementing variables with += or -=\n",
    "x =0\n",
    "x += 1\n",
    "print(x)\n",
    "\n",
    "y =10\n",
    "y -= 1\n",
    "print(y)\n"
   ]
  },
  {
   "cell_type": "code",
   "execution_count": 20,
   "metadata": {},
   "outputs": [
    {
     "name": "stdout",
     "output_type": "stream",
     "text": [
      "1994-02-11\n",
      "['1994-02-11']\n"
     ]
    }
   ],
   "source": [
    "# turn dates into strings\n",
    "from datetime import date\n",
    "d1 = date(1994,2,11)\n",
    "print(d1)    \n",
    "# ISO 8601 format in a list\n",
    "print([d1.isoformat()])   \n"
   ]
  },
  {
   "cell_type": "code",
   "execution_count": 21,
   "metadata": {},
   "outputs": [
    {
     "name": "stdout",
     "output_type": "stream",
     "text": [
      "Wednesday, October 08, 1997\n",
      "Year is 1997\n",
      "1997/10/08\n"
     ]
    }
   ],
   "source": [
    "# strftime() method: more flexible way to format dates\n",
    "d2 = date(1997,10,8)\n",
    "print(d2.strftime(\"%A, %B %d, %Y\"))\n",
    "\n",
    "# it works with more text wrapped as well!\n",
    "print(d2.strftime(\"Year is %Y\"))\n",
    "\n",
    "# Format: YYYY/MM/DD\n",
    "print(d2.strftime(\"%Y/%m/%d\"))"
   ]
  },
  {
   "cell_type": "code",
   "execution_count": 22,
   "metadata": {},
   "outputs": [
    {
     "name": "stdout",
     "output_type": "stream",
     "text": [
      "['1999-11-12', '1999-12-11']\n"
     ]
    }
   ],
   "source": [
    "# A few dates that computers once had trouble with\n",
    "some_dates = ['1999-12-11', '1999-11-12']\n",
    "# Print them in order from earliest to latest\n",
    "print(sorted(some_dates))"
   ]
  },
  {
   "cell_type": "markdown",
   "metadata": {},
   "source": [
    "# Combining Dates and Times"
   ]
  },
  {
   "cell_type": "code",
   "execution_count": 23,
   "metadata": {},
   "outputs": [
    {
     "name": "stdout",
     "output_type": "stream",
     "text": [
      "1994-02-11 01:51:59\n"
     ]
    }
   ],
   "source": [
    "from datetime import datetime\n",
    "dt = datetime(1994, 2, 11, 1, 51, 59) #follow the vibe and type!\n",
    "print(dt)"
   ]
  },
  {
   "cell_type": "code",
   "execution_count": 24,
   "metadata": {},
   "outputs": [
    {
     "name": "stdout",
     "output_type": "stream",
     "text": [
      "1994-02-11 01:58:08\n"
     ]
    }
   ],
   "source": [
    "# replace part of a datetime\n",
    "dt_update = dt.replace(minute = 58, second = 8)\n",
    "print(dt_update)"
   ]
  },
  {
   "cell_type": "code",
   "execution_count": 25,
   "metadata": {},
   "outputs": [
    {
     "name": "stdout",
     "output_type": "stream",
     "text": [
      "01:51:59 on 1994-02-11\n"
     ]
    }
   ],
   "source": [
    "# strftime can deal with time as well\n",
    "print(dt.strftime(\"%H:%M:%S on %Y-%m-%d\"))"
   ]
  },
  {
   "cell_type": "code",
   "execution_count": 26,
   "metadata": {},
   "outputs": [
    {
     "name": "stdout",
     "output_type": "stream",
     "text": [
      "1994-02-11T01:51:59\n"
     ]
    }
   ],
   "source": [
    "# ISO 8601 format\n",
    "print(dt.isoformat())"
   ]
  },
  {
   "cell_type": "code",
   "execution_count": 27,
   "metadata": {},
   "outputs": [
    {
     "name": "stdout",
     "output_type": "stream",
     "text": [
      "2017-12-31 15:32:31\n"
     ]
    }
   ],
   "source": [
    "# Parsing datetimes with strptime\n",
    "from datetime import datetime\n",
    "dt2 = datetime.strptime(\"12/31/2017 15:32:31\", \"%m/%d/%Y %H:%M:%S\") #it takes two arguments that must tally\n",
    "print(dt2)"
   ]
  },
  {
   "cell_type": "code",
   "execution_count": 28,
   "metadata": {},
   "outputs": [
    {
     "name": "stdout",
     "output_type": "stream",
     "text": [
      "2017-12-30 23:32:31\n"
     ]
    }
   ],
   "source": [
    "# or we can use timestamp tp parse a date\n",
    "ts = 1514673151.0\n",
    "print(datetime.fromtimestamp(ts))"
   ]
  },
  {
   "cell_type": "markdown",
   "metadata": {},
   "source": [
    "# Time zones and Daylight Saving"
   ]
  },
  {
   "cell_type": "code",
   "execution_count": null,
   "metadata": {},
   "outputs": [
    {
     "name": "stdout",
     "output_type": "stream",
     "text": [
      "2020-02-14 15:08:03-05:00\n"
     ]
    }
   ],
   "source": [
    "from datetime import datetime, timedelta, timezone\n",
    "# Create a timezone for Eastern Standard Time (EST)\n",
    "ET = timezone(timedelta(hours = -5)) # 5 hours behind UTC\n",
    "#  timezone-aware datetime\n",
    "dt3 = datetime(2020, 2,14, 15,8,3, tzinfo= ET)\n",
    "print(dt3) "
   ]
  },
  {
   "cell_type": "code",
   "execution_count": 31,
   "metadata": {},
   "outputs": [
    {
     "name": "stdout",
     "output_type": "stream",
     "text": [
      "2020-02-15 01:38:03+05:30\n"
     ]
    }
   ],
   "source": [
    "# Indian time: a special case where the timezone is not a whole number of hours\n",
    "IST = timezone(timedelta(hours = 5, minutes = 30))\n",
    "print(dt3.astimezone(IST))"
   ]
  },
  {
   "cell_type": "code",
   "execution_count": 34,
   "metadata": {},
   "outputs": [
    {
     "name": "stdout",
     "output_type": "stream",
     "text": [
      "2020-02-14 15:08:03-05:00\n",
      "2020-02-14 15:08:03+00:00\n",
      "2020-02-14 20:08:03+00:00\n"
     ]
    }
   ],
   "source": [
    "# Adjusting timezone vs changing tzinfo\n",
    "print(dt3)\n",
    "print(dt3.replace(tzinfo = timezone.utc))\n",
    "# the replace() method is not the best way to change the timezone of a datetime object.\n",
    "# The best way is to use the astimezone() method, by changing original to match UTC\n",
    "print(dt3.astimezone(timezone.utc))"
   ]
  },
  {
   "cell_type": "code",
   "execution_count": null,
   "metadata": {},
   "outputs": [],
   "source": []
  },
  {
   "cell_type": "code",
   "execution_count": null,
   "metadata": {},
   "outputs": [],
   "source": []
  },
  {
   "cell_type": "code",
   "execution_count": null,
   "metadata": {},
   "outputs": [],
   "source": []
  },
  {
   "cell_type": "code",
   "execution_count": null,
   "metadata": {},
   "outputs": [],
   "source": []
  },
  {
   "cell_type": "markdown",
   "metadata": {},
   "source": [
    "# Dates and Times in Pandas"
   ]
  }
 ],
 "metadata": {
  "kernelspec": {
   "display_name": "base",
   "language": "python",
   "name": "python3"
  },
  "language_info": {
   "codemirror_mode": {
    "name": "ipython",
    "version": 3
   },
   "file_extension": ".py",
   "mimetype": "text/x-python",
   "name": "python",
   "nbconvert_exporter": "python",
   "pygments_lexer": "ipython3",
   "version": "3.8.8"
  }
 },
 "nbformat": 4,
 "nbformat_minor": 2
}
